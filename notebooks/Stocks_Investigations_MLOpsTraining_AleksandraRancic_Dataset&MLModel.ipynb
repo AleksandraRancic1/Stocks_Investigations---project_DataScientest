{
 "cells": [
  {
   "cell_type": "code",
   "execution_count": 8,
   "id": "0a487499-8c81-4248-a353-d1576caf53f2",
   "metadata": {},
   "outputs": [],
   "source": [
    "import yfinance as yf\n",
    "import os\n",
    "from datetime import datetime\n",
    "import numpy as np"
   ]
  },
  {
   "cell_type": "code",
   "execution_count": 9,
   "id": "c211640a-86b5-404d-b680-e294c0d2dac4",
   "metadata": {},
   "outputs": [],
   "source": [
    "\"\"\"\n",
    "This function downloads historical stock price data for a specified stock label. \n",
    "It downloads the data within a given time range using the Yahoo Finance API.\n",
    "\n",
    "This function will use the yf.download method from the Yahoo Finance library, \n",
    "and will return the adjusted closing price.\n",
    "\"\"\"\n",
    "\n",
    "folder_path = \"/Users/aleksandra.rancic/Desktop/MLOps_Project/MLOps/dataset\"\n",
    "\n",
    "def download_dataset(label, start_date):\n",
    "    \n",
    "    end_date = datetime.now().strftime('%Y-%m-%d')\n",
    "    \n",
    "    stock_data = yf.download(label, start = start_date, end = end_date)\n",
    "    \n",
    "    file_name = f\"{label}_stock_data.csv\"\n",
    "    \n",
    "    file_path = os.path.join(folder_path, file_name)\n",
    "    \n",
    "    stock_data.to_csv(file_path)\n",
    "    \n",
    "    return stock_data\n",
    "\n",
    "# label = the stock label symbol ('AAPL' for Apple Inc.)\n",
    "# start_date = the starting date for the historical data \n",
    "# end_date = the ending date for the historical data\n",
    "# The format for dates is 'YYYY-MM-DD'.\n"
   ]
  },
  {
   "cell_type": "code",
   "execution_count": 10,
   "id": "e675953e-8122-4847-a30f-c0ebbf1c08ee",
   "metadata": {},
   "outputs": [
    {
     "name": "stderr",
     "output_type": "stream",
     "text": [
      "[*********************100%***********************]  1 of 1 completed\n"
     ]
    }
   ],
   "source": [
    "#Download stock data\n",
    "label = 'AAPL'\n",
    "start_date = '2014-09-12'\n",
    "adj_close_data = download_dataset(label, start_date)"
   ]
  },
  {
   "cell_type": "code",
   "execution_count": 11,
   "id": "a9d98fdb-1ec3-4aba-85e2-1cc7c439dcfd",
   "metadata": {},
   "outputs": [
    {
     "data": {
      "text/html": [
       "<div>\n",
       "<style scoped>\n",
       "    .dataframe tbody tr th:only-of-type {\n",
       "        vertical-align: middle;\n",
       "    }\n",
       "\n",
       "    .dataframe tbody tr th {\n",
       "        vertical-align: top;\n",
       "    }\n",
       "\n",
       "    .dataframe thead th {\n",
       "        text-align: right;\n",
       "    }\n",
       "</style>\n",
       "<table border=\"1\" class=\"dataframe\">\n",
       "  <thead>\n",
       "    <tr style=\"text-align: right;\">\n",
       "      <th></th>\n",
       "      <th>Date</th>\n",
       "      <th>Open</th>\n",
       "      <th>High</th>\n",
       "      <th>Low</th>\n",
       "      <th>Close</th>\n",
       "      <th>Adj Close</th>\n",
       "      <th>Volume</th>\n",
       "    </tr>\n",
       "  </thead>\n",
       "  <tbody>\n",
       "    <tr>\n",
       "      <th>0</th>\n",
       "      <td>2014-09-12</td>\n",
       "      <td>25.302500</td>\n",
       "      <td>25.547501</td>\n",
       "      <td>25.270000</td>\n",
       "      <td>25.415001</td>\n",
       "      <td>22.566168</td>\n",
       "      <td>250504400</td>\n",
       "    </tr>\n",
       "    <tr>\n",
       "      <th>1</th>\n",
       "      <td>2014-09-15</td>\n",
       "      <td>25.702499</td>\n",
       "      <td>25.762501</td>\n",
       "      <td>25.360001</td>\n",
       "      <td>25.407499</td>\n",
       "      <td>22.559505</td>\n",
       "      <td>245266000</td>\n",
       "    </tr>\n",
       "    <tr>\n",
       "      <th>2</th>\n",
       "      <td>2014-09-16</td>\n",
       "      <td>24.950001</td>\n",
       "      <td>25.315001</td>\n",
       "      <td>24.722500</td>\n",
       "      <td>25.215000</td>\n",
       "      <td>22.388575</td>\n",
       "      <td>267632400</td>\n",
       "    </tr>\n",
       "    <tr>\n",
       "      <th>3</th>\n",
       "      <td>2014-09-17</td>\n",
       "      <td>25.317499</td>\n",
       "      <td>25.450001</td>\n",
       "      <td>25.147499</td>\n",
       "      <td>25.395000</td>\n",
       "      <td>22.548403</td>\n",
       "      <td>243706000</td>\n",
       "    </tr>\n",
       "    <tr>\n",
       "      <th>4</th>\n",
       "      <td>2014-09-18</td>\n",
       "      <td>25.482500</td>\n",
       "      <td>25.587500</td>\n",
       "      <td>25.389999</td>\n",
       "      <td>25.447500</td>\n",
       "      <td>22.595018</td>\n",
       "      <td>149197600</td>\n",
       "    </tr>\n",
       "  </tbody>\n",
       "</table>\n",
       "</div>"
      ],
      "text/plain": [
       "         Date       Open       High        Low      Close  Adj Close  \\\n",
       "0  2014-09-12  25.302500  25.547501  25.270000  25.415001  22.566168   \n",
       "1  2014-09-15  25.702499  25.762501  25.360001  25.407499  22.559505   \n",
       "2  2014-09-16  24.950001  25.315001  24.722500  25.215000  22.388575   \n",
       "3  2014-09-17  25.317499  25.450001  25.147499  25.395000  22.548403   \n",
       "4  2014-09-18  25.482500  25.587500  25.389999  25.447500  22.595018   \n",
       "\n",
       "      Volume  \n",
       "0  250504400  \n",
       "1  245266000  \n",
       "2  267632400  \n",
       "3  243706000  \n",
       "4  149197600  "
      ]
     },
     "execution_count": 11,
     "metadata": {},
     "output_type": "execute_result"
    }
   ],
   "source": [
    "import pandas as pd\n",
    "\n",
    "df = pd.read_csv('/Users/aleksandra.rancic/Desktop/MLOps_Project/MLOps/dataset/AAPL_stock_data.csv')\n",
    "df.head()"
   ]
  },
  {
   "cell_type": "code",
   "execution_count": 12,
   "id": "57d94431-2542-42e9-a955-479ba5681360",
   "metadata": {},
   "outputs": [],
   "source": [
    "def preprocess_data(data, sequence_length):\n",
    "    \"\"\"\n",
    "    Preprocesses the raw stock price data and creates input sequences for LSTM model.\n",
    "\n",
    "    Parameters:\n",
    "    -----------\n",
    "    data: array-like\n",
    "        The stock price data (or any time series data) to preprocess.\n",
    "\n",
    "    sequence_length: int\n",
    "        The number of previous time steps to consider in each input sequence.\n",
    "\n",
    "    Returns:\n",
    "    --------\n",
    "    sequences: list of tuples\n",
    "        Each tuple contains:\n",
    "        - sequence: the input sequence for the LSTM model.\n",
    "        - target: the next value after the sequence, used for prediction.\n",
    "    \"\"\"\n",
    "    sequences = []\n",
    "    for i in range(len(data) - sequence_length):\n",
    "        # Direct slicing for both NumPy arrays and DataFrames\n",
    "        sequence = data[i:i+sequence_length]\n",
    "        target = data[i+sequence_length]\n",
    "        sequences.append((sequence, target))\n",
    "\n",
    "    return sequences\n"
   ]
  },
  {
   "cell_type": "code",
   "execution_count": 29,
   "id": "553d7ca1-661c-41ea-bdcc-8ddb9e0303b4",
   "metadata": {},
   "outputs": [],
   "source": [
    "import numpy as np\n",
    "from sklearn.preprocessing import MinMaxScaler\n",
    "\n",
    "def split_and_scale_data(data, test_size = 0.2, sequence_length = 60):\n",
    "    \"\"\"\n",
    "    This function splits a time series dataset into training and testing sets, scales the data, \n",
    "    and creates input sequences for LSTM model training and testing.\n",
    "\n",
    "    Parameters:\n",
    "    -----------\n",
    "    data: array-like\n",
    "        The stock price (or any time series data) that you want to split and preprocess.\n",
    "        Typically, this will be a Pandas DataFrame or NumPy array with one or more columns.\n",
    "\n",
    "    test_size: float, optional\n",
    "        The proportion of the data to reserve for testing. Default is 0.2 (20% test, 80% train).\n",
    "\n",
    "    sequence_length: int, optional\n",
    "        The number of previous time steps to consider in each input sequence. This defines how much\n",
    "        historical data the model will use to predict the next value. Defalut is 60 (usually 60 days).\n",
    "\n",
    "    Returns:\n",
    "    --------\n",
    "    X_train: numpy array\n",
    "        The input sequences for the LSTM model from the training dataset. Each sequence contains \n",
    "        'sequence_length' time steps of stock prices.\n",
    "    y_train: numpy array\n",
    "        The corresponding target values for each sequence in the training dataset. These are the values\n",
    "        the model will learn to predict.\n",
    "    X_test: numpy array\n",
    "        The input sequences for the LSTM model from the test dataset.\n",
    "    y_test: numpy array\n",
    "        The corresponding target values for the test dataset.\n",
    "    scaler: MinMaxScaler object\n",
    "        The scaler object used to scale the data, allowing you to inverse-transform the data later\n",
    "        for interpretation after predictions.\n",
    "\n",
    "\n",
    "    Notes:\n",
    "    -------\n",
    "    The function scales the entire dataset between 0 and 1 using MinMaxScaler before splitting\n",
    "    into training and testing sets. LSTMs require normalized data for optimal performance. \n",
    "    \"\"\"\n",
    "    \n",
    "    scaler = MinMaxScaler(feature_range = (0, 1))\n",
    "    scaled_data = scaler.fit_transform(data)\n",
    "\n",
    "    train_size = int(len(scaled_data)*(1-test_size))\n",
    "    train_data = scaled_data[:train_size]\n",
    "    test_data = scaled_data[train_size:]\n",
    "\n",
    "    train_sequences = preprocess_data(train_data, sequence_length)\n",
    "    test_sequences = preprocess_data(test_data, sequence_length)\n",
    "\n",
    "    X_train = np.array([seq[0] for seq in train_sequences])\n",
    "    y_train = np.array([seq[1] for seq in train_sequences])\n",
    "    X_test = np.array([seq[0] for seq in test_sequences])\n",
    "    y_test = np.array([seq[1] for seq in test_sequences])\n",
    "\n",
    "    np.save(\"/Users/aleksandra.rancic/Desktop/MLOps_Project/MLOps/ML_Model_API/venv/X_train.npy\", X_train)\n",
    "    np.save(\"/Users/aleksandra.rancic/Desktop/MLOps_Project/MLOps/ML_Model_API/venv/y_train.npy\", y_train)\n",
    "    np.save(\"/Users/aleksandra.rancic/Desktop/MLOps_Project/MLOps/ML_Model_API/venv/X_test.npy\", X_test)\n",
    "    np.save(\"/Users/aleksandra.rancic/Desktop/MLOps_Project/MLOps/ML_Model_API/venv/y_test.npy\", y_test)\n",
    "\n",
    "    return X_train, y_train, X_test, y_test, scaler\n",
    "    "
   ]
  },
  {
   "cell_type": "code",
   "execution_count": 13,
   "id": "63183a94-3577-4c6c-abb7-2eb171ce1612",
   "metadata": {},
   "outputs": [],
   "source": [
    "from keras.models import Sequential\n",
    "from keras.layers import LSTM, Dropout, Dense, Input\n",
    "from keras.callbacks import EarlyStopping\n",
    "\n",
    "def train_lstm_model(X_train, y_train, sequence_length, n_features=1, epochs=50, batch_size=32):\n",
    "    model = Sequential()\n",
    "    model.add(Input(shape=(sequence_length, n_features)))\n",
    "    model.add(LSTM(units=100, return_sequences=True))\n",
    "    model.add(Dropout(0.3))\n",
    "    model.add(LSTM(units=50, return_sequences=False))\n",
    "    model.add(Dropout(0.3))\n",
    "    model.add(Dense(units=1))\n",
    "\n",
    "    model.compile(optimizer='adam', loss='mean_squared_error')\n",
    "\n",
    "    # Use EarlyStopping to prevent overfitting\n",
    "    early_stopping = EarlyStopping(monitor='val_loss', patience=10, restore_best_weights=True)\n",
    "\n",
    "    model.fit(X_train, y_train, epochs=epochs, batch_size=batch_size, validation_split=0.2, callbacks=[early_stopping])\n",
    "    \n",
    "    return model\n",
    "\n"
   ]
  },
  {
   "cell_type": "code",
   "execution_count": 14,
   "id": "ef1997cf-bc09-4cba-a21f-078c70146f91",
   "metadata": {},
   "outputs": [
    {
     "name": "stdout",
     "output_type": "stream",
     "text": [
      "Data Overview:\n",
      "         Date       Open       High        Low      Close  Adj Close  \\\n",
      "0  2014-09-12  25.302500  25.547501  25.270000  25.415001  22.566168   \n",
      "1  2014-09-15  25.702499  25.762501  25.360001  25.407499  22.559505   \n",
      "2  2014-09-16  24.950001  25.315001  24.722500  25.215000  22.388575   \n",
      "3  2014-09-17  25.317499  25.450001  25.147499  25.395000  22.548403   \n",
      "4  2014-09-18  25.482500  25.587500  25.389999  25.447500  22.595018   \n",
      "\n",
      "      Volume  \n",
      "0  250504400  \n",
      "1  245266000  \n",
      "2  267632400  \n",
      "3  243706000  \n",
      "4  149197600  \n",
      "\n",
      "Data Description:\n",
      "              Open         High          Low        Close    Adj Close  \\\n",
      "count  2533.000000  2533.000000  2533.000000  2533.000000  2533.000000   \n",
      "mean     90.866083    91.839761    89.947258    90.937001    88.879748   \n",
      "std      62.242477    62.904125    61.615367    62.293016    62.781882   \n",
      "min      22.500000    22.917500    22.367500    22.584999    20.720036   \n",
      "25%      35.099998    35.305000    34.939999    35.160000    32.739231   \n",
      "50%      56.455002    57.055000    55.972500    56.435001    54.136620   \n",
      "75%     148.809998   150.229996   147.330002   148.910004   146.876343   \n",
      "max     236.479996   237.229996   233.089996   234.820007   234.548523   \n",
      "\n",
      "             Volume  \n",
      "count  2.533000e+03  \n",
      "mean   1.216699e+08  \n",
      "std    7.001434e+07  \n",
      "min    2.404830e+07  \n",
      "25%    7.424460e+07  \n",
      "50%    1.035636e+08  \n",
      "75%    1.487804e+08  \n",
      "max    6.488252e+08  \n",
      "\n",
      "Missing Values:\n",
      "Date         0\n",
      "Open         0\n",
      "High         0\n",
      "Low          0\n",
      "Close        0\n",
      "Adj Close    0\n",
      "Volume       0\n",
      "dtype: int64\n"
     ]
    }
   ],
   "source": [
    "import matplotlib.pyplot as plt\n",
    "import seaborn as sns\n",
    "\n",
    "def explore_data(df):\n",
    "    print(\"Data Overview:\")\n",
    "    print(df.head())\n",
    "    print(\"\\nData Description:\")\n",
    "    print(df.describe())\n",
    "    print(\"\\nMissing Values:\")\n",
    "    print(df.isnull().sum())\n",
    "\n",
    "explore_data(df)"
   ]
  },
  {
   "cell_type": "code",
   "execution_count": 15,
   "id": "59da01ea-5db5-411f-8b0d-341960af3f4e",
   "metadata": {},
   "outputs": [
    {
     "data": {
      "image/png": "[encoded data removed]",
      "text/plain": [
       "<Figure size 1000x600 with 1 Axes>"
      ]
     },
     "metadata": {},
     "output_type": "display_data"
    },
    {
     "data": {
      "image/png": "[encoded data removed]",
      "text/plain": [
       "<Figure size 1000x600 with 2 Axes>"
      ]
     },
     "metadata": {},
     "output_type": "display_data"
    }
   ],
   "source": [
    "import matplotlib.pyplot as plt\n",
    "import seaborn as sns\n",
    "\n",
    "def visualize_data(df):\n",
    "    plt.figure(figsize = (10, 6))\n",
    "    plt.plot(df['Date'], df['Adj Close'], label = \"Adjusted Close Price\", color = 'blue')\n",
    "    plt.title('Apple Stock Adjusted Close Price Over Time')\n",
    "    plt.xlabel('Date')\n",
    "    plt.ylabel('Adjusted Close Price')\n",
    "    plt.legend()\n",
    "    plt.show();\n",
    "\n",
    "    numeric_df = df.drop(columns = ['Date'])\n",
    "\n",
    "    plt.figure(figsize = (10, 6))\n",
    "    sns.heatmap(numeric_df.corr(), annot = True, cmap = 'coolwarm')\n",
    "    plt.title('Correlation Heatmap of Stock Features')\n",
    "    plt.show();\n",
    "\n",
    "visualize_data(df)"
   ]
  },
  {
   "cell_type": "code",
   "execution_count": 16,
   "id": "7f7fb603-31d6-4b63-a603-c709f08b9fa6",
   "metadata": {},
   "outputs": [],
   "source": [
    "sequence_length = 60\n",
    "X_train, y_train, X_test, y_test, scaler = split_and_scale_data(df[['Adj Close']].values, test_size=0.2, sequence_length=sequence_length)\n"
   ]
  },
  {
   "cell_type": "code",
   "execution_count": 17,
   "id": "6889365a-4bc6-49b5-8a3f-ae6491b6455b",
   "metadata": {},
   "outputs": [
    {
     "name": "stdout",
     "output_type": "stream",
     "text": [
      "X_train shape: (1966, 60, 1)\n",
      "y_train shape: (1966, 1)\n"
     ]
    }
   ],
   "source": [
    "print(\"X_train shape:\", X_train.shape)\n",
    "print(\"y_train shape:\", y_train.shape)\n"
   ]
  },
  {
   "cell_type": "code",
   "execution_count": 18,
   "id": "b822c295-b5bc-46e5-84da-3b69c98a567c",
   "metadata": {},
   "outputs": [
    {
     "name": "stdout",
     "output_type": "stream",
     "text": [
      "<class 'numpy.ndarray'>\n",
      "<class 'numpy.ndarray'>\n"
     ]
    }
   ],
   "source": [
    "import numpy as np\n",
    "\n",
    "print(type(X_train))  \n",
    "print(type(y_train))  \n"
   ]
  },
  {
   "cell_type": "code",
   "execution_count": 19,
   "id": "3020afe6-0097-4234-bcbf-bebae8e49df4",
   "metadata": {},
   "outputs": [
    {
     "name": "stdout",
     "output_type": "stream",
     "text": [
      "Epoch 1/50\n",
      "\u001b[1m50/50\u001b[0m \u001b[32m━━━━━━━━━━━━━━━━━━━━\u001b[0m\u001b[37m\u001b[0m \u001b[1m2s\u001b[0m 26ms/step - loss: 0.0092 - val_loss: 0.0011\n",
      "Epoch 2/50\n",
      "\u001b[1m50/50\u001b[0m \u001b[32m━━━━━━━━━━━━━━━━━━━━\u001b[0m\u001b[37m\u001b[0m \u001b[1m1s\u001b[0m 23ms/step - loss: 6.2757e-04 - val_loss: 0.0015\n",
      "Epoch 3/50\n",
      "\u001b[1m50/50\u001b[0m \u001b[32m━━━━━━━━━━━━━━━━━━━━\u001b[0m\u001b[37m\u001b[0m \u001b[1m1s\u001b[0m 24ms/step - loss: 6.8941e-04 - val_loss: 7.6047e-04\n",
      "Epoch 4/50\n",
      "\u001b[1m50/50\u001b[0m \u001b[32m━━━━━━━━━━━━━━━━━━━━\u001b[0m\u001b[37m\u001b[0m \u001b[1m1s\u001b[0m 24ms/step - loss: 6.8248e-04 - val_loss: 7.4793e-04\n",
      "Epoch 5/50\n",
      "\u001b[1m50/50\u001b[0m \u001b[32m━━━━━━━━━━━━━━━━━━━━\u001b[0m\u001b[37m\u001b[0m \u001b[1m1s\u001b[0m 24ms/step - loss: 5.4247e-04 - val_loss: 0.0025\n",
      "Epoch 6/50\n",
      "\u001b[1m50/50\u001b[0m \u001b[32m━━━━━━━━━━━━━━━━━━━━\u001b[0m\u001b[37m\u001b[0m \u001b[1m1s\u001b[0m 24ms/step - loss: 4.8320e-04 - val_loss: 0.0021\n",
      "Epoch 7/50\n",
      "\u001b[1m50/50\u001b[0m \u001b[32m━━━━━━━━━━━━━━━━━━━━\u001b[0m\u001b[37m\u001b[0m \u001b[1m1s\u001b[0m 24ms/step - loss: 5.4936e-04 - val_loss: 0.0017\n",
      "Epoch 8/50\n",
      "\u001b[1m50/50\u001b[0m \u001b[32m━━━━━━━━━━━━━━━━━━━━\u001b[0m\u001b[37m\u001b[0m \u001b[1m1s\u001b[0m 24ms/step - loss: 4.4561e-04 - val_loss: 0.0014\n",
      "Epoch 9/50\n",
      "\u001b[1m50/50\u001b[0m \u001b[32m━━━━━━━━━━━━━━━━━━━━\u001b[0m\u001b[37m\u001b[0m \u001b[1m1s\u001b[0m 24ms/step - loss: 4.1178e-04 - val_loss: 0.0043\n",
      "Epoch 10/50\n",
      "\u001b[1m50/50\u001b[0m \u001b[32m━━━━━━━━━━━━━━━━━━━━\u001b[0m\u001b[37m\u001b[0m \u001b[1m1s\u001b[0m 24ms/step - loss: 5.7714e-04 - val_loss: 5.6794e-04\n",
      "Epoch 11/50\n",
      "\u001b[1m50/50\u001b[0m \u001b[32m━━━━━━━━━━━━━━━━━━━━\u001b[0m\u001b[37m\u001b[0m \u001b[1m1s\u001b[0m 24ms/step - loss: 4.5573e-04 - val_loss: 0.0011\n",
      "Epoch 12/50\n",
      "\u001b[1m50/50\u001b[0m \u001b[32m━━━━━━━━━━━━━━━━━━━━\u001b[0m\u001b[37m\u001b[0m \u001b[1m1s\u001b[0m 25ms/step - loss: 3.5807e-04 - val_loss: 5.9764e-04\n",
      "Epoch 13/50\n",
      "\u001b[1m50/50\u001b[0m \u001b[32m━━━━━━━━━━━━━━━━━━━━\u001b[0m\u001b[37m\u001b[0m \u001b[1m1s\u001b[0m 24ms/step - loss: 3.7130e-04 - val_loss: 5.0681e-04\n",
      "Epoch 14/50\n",
      "\u001b[1m50/50\u001b[0m \u001b[32m━━━━━━━━━━━━━━━━━━━━\u001b[0m\u001b[37m\u001b[0m \u001b[1m1s\u001b[0m 25ms/step - loss: 3.4301e-04 - val_loss: 0.0014\n",
      "Epoch 15/50\n",
      "\u001b[1m50/50\u001b[0m \u001b[32m━━━━━━━━━━━━━━━━━━━━\u001b[0m\u001b[37m\u001b[0m \u001b[1m1s\u001b[0m 24ms/step - loss: 5.4519e-04 - val_loss: 5.8527e-04\n",
      "Epoch 16/50\n",
      "\u001b[1m50/50\u001b[0m \u001b[32m━━━━━━━━━━━━━━━━━━━━\u001b[0m\u001b[37m\u001b[0m \u001b[1m1s\u001b[0m 24ms/step - loss: 4.5675e-04 - val_loss: 0.0013\n",
      "Epoch 17/50\n",
      "\u001b[1m50/50\u001b[0m \u001b[32m━━━━━━━━━━━━━━━━━━━━\u001b[0m\u001b[37m\u001b[0m \u001b[1m1s\u001b[0m 25ms/step - loss: 3.5464e-04 - val_loss: 5.0963e-04\n",
      "Epoch 18/50\n",
      "\u001b[1m50/50\u001b[0m \u001b[32m━━━━━━━━━━━━━━━━━━━━\u001b[0m\u001b[37m\u001b[0m \u001b[1m1s\u001b[0m 24ms/step - loss: 4.3557e-04 - val_loss: 0.0019\n",
      "Epoch 19/50\n",
      "\u001b[1m50/50\u001b[0m \u001b[32m━━━━━━━━━━━━━━━━━━━━\u001b[0m\u001b[37m\u001b[0m \u001b[1m1s\u001b[0m 25ms/step - loss: 5.0276e-04 - val_loss: 0.0014\n",
      "Epoch 20/50\n",
      "\u001b[1m50/50\u001b[0m \u001b[32m━━━━━━━━━━━━━━━━━━━━\u001b[0m\u001b[37m\u001b[0m \u001b[1m1s\u001b[0m 24ms/step - loss: 3.9246e-04 - val_loss: 4.8743e-04\n",
      "Epoch 21/50\n",
      "\u001b[1m50/50\u001b[0m \u001b[32m━━━━━━━━━━━━━━━━━━━━\u001b[0m\u001b[37m\u001b[0m \u001b[1m1s\u001b[0m 24ms/step - loss: 3.9999e-04 - val_loss: 0.0059\n",
      "Epoch 22/50\n",
      "\u001b[1m50/50\u001b[0m \u001b[32m━━━━━━━━━━━━━━━━━━━━\u001b[0m\u001b[37m\u001b[0m \u001b[1m1s\u001b[0m 25ms/step - loss: 4.6201e-04 - val_loss: 5.3790e-04\n",
      "Epoch 23/50\n",
      "\u001b[1m50/50\u001b[0m \u001b[32m━━━━━━━━━━━━━━━━━━━━\u001b[0m\u001b[37m\u001b[0m \u001b[1m1s\u001b[0m 25ms/step - loss: 3.6653e-04 - val_loss: 4.9464e-04\n",
      "Epoch 24/50\n",
      "\u001b[1m50/50\u001b[0m \u001b[32m━━━━━━━━━━━━━━━━━━━━\u001b[0m\u001b[37m\u001b[0m \u001b[1m1s\u001b[0m 25ms/step - loss: 3.2932e-04 - val_loss: 5.1674e-04\n",
      "Epoch 25/50\n",
      "\u001b[1m50/50\u001b[0m \u001b[32m━━━━━━━━━━━━━━━━━━━━\u001b[0m\u001b[37m\u001b[0m \u001b[1m1s\u001b[0m 24ms/step - loss: 2.9431e-04 - val_loss: 0.0012\n",
      "Epoch 26/50\n",
      "\u001b[1m50/50\u001b[0m \u001b[32m━━━━━━━━━━━━━━━━━━━━\u001b[0m\u001b[37m\u001b[0m \u001b[1m1s\u001b[0m 25ms/step - loss: 3.0625e-04 - val_loss: 4.1623e-04\n",
      "Epoch 27/50\n",
      "\u001b[1m50/50\u001b[0m \u001b[32m━━━━━━━━━━━━━━━━━━━━\u001b[0m\u001b[37m\u001b[0m \u001b[1m1s\u001b[0m 24ms/step - loss: 4.4901e-04 - val_loss: 0.0020\n",
      "Epoch 28/50\n",
      "\u001b[1m50/50\u001b[0m \u001b[32m━━━━━━━━━━━━━━━━━━━━\u001b[0m\u001b[37m\u001b[0m \u001b[1m1s\u001b[0m 24ms/step - loss: 3.1327e-04 - val_loss: 4.0226e-04\n",
      "Epoch 29/50\n",
      "\u001b[1m50/50\u001b[0m \u001b[32m━━━━━━━━━━━━━━━━━━━━\u001b[0m\u001b[37m\u001b[0m \u001b[1m1s\u001b[0m 25ms/step - loss: 3.2260e-04 - val_loss: 3.9823e-04\n",
      "Epoch 30/50\n",
      "\u001b[1m50/50\u001b[0m \u001b[32m━━━━━━━━━━━━━━━━━━━━\u001b[0m\u001b[37m\u001b[0m \u001b[1m1s\u001b[0m 25ms/step - loss: 3.3794e-04 - val_loss: 5.2471e-04\n",
      "Epoch 31/50\n",
      "\u001b[1m50/50\u001b[0m \u001b[32m━━━━━━━━━━━━━━━━━━━━\u001b[0m\u001b[37m\u001b[0m \u001b[1m1s\u001b[0m 25ms/step - loss: 2.9237e-04 - val_loss: 6.0509e-04\n",
      "Epoch 32/50\n",
      "\u001b[1m50/50\u001b[0m \u001b[32m━━━━━━━━━━━━━━━━━━━━\u001b[0m\u001b[37m\u001b[0m \u001b[1m1s\u001b[0m 24ms/step - loss: 3.6620e-04 - val_loss: 6.9150e-04\n",
      "Epoch 33/50\n",
      "\u001b[1m50/50\u001b[0m \u001b[32m━━━━━━━━━━━━━━━━━━━━\u001b[0m\u001b[37m\u001b[0m \u001b[1m1s\u001b[0m 25ms/step - loss: 3.0697e-04 - val_loss: 5.4297e-04\n",
      "Epoch 34/50\n",
      "\u001b[1m50/50\u001b[0m \u001b[32m━━━━━━━━━━━━━━━━━━━━\u001b[0m\u001b[37m\u001b[0m \u001b[1m1s\u001b[0m 25ms/step - loss: 3.0574e-04 - val_loss: 0.0019\n",
      "Epoch 35/50\n",
      "\u001b[1m50/50\u001b[0m \u001b[32m━━━━━━━━━━━━━━━━━━━━\u001b[0m\u001b[37m\u001b[0m \u001b[1m1s\u001b[0m 24ms/step - loss: 4.4318e-04 - val_loss: 0.0014\n",
      "Epoch 36/50\n",
      "\u001b[1m50/50\u001b[0m \u001b[32m━━━━━━━━━━━━━━━━━━━━\u001b[0m\u001b[37m\u001b[0m \u001b[1m1s\u001b[0m 25ms/step - loss: 2.9864e-04 - val_loss: 7.3652e-04\n",
      "Epoch 37/50\n",
      "\u001b[1m50/50\u001b[0m \u001b[32m━━━━━━━━━━━━━━━━━━━━\u001b[0m\u001b[37m\u001b[0m \u001b[1m1s\u001b[0m 24ms/step - loss: 3.4206e-04 - val_loss: 3.6205e-04\n",
      "Epoch 38/50\n",
      "\u001b[1m50/50\u001b[0m \u001b[32m━━━━━━━━━━━━━━━━━━━━\u001b[0m\u001b[37m\u001b[0m \u001b[1m1s\u001b[0m 25ms/step - loss: 3.0789e-04 - val_loss: 8.5413e-04\n",
      "Epoch 39/50\n",
      "\u001b[1m50/50\u001b[0m \u001b[32m━━━━━━━━━━━━━━━━━━━━\u001b[0m\u001b[37m\u001b[0m \u001b[1m1s\u001b[0m 25ms/step - loss: 3.1372e-04 - val_loss: 3.8468e-04\n",
      "Epoch 40/50\n",
      "\u001b[1m50/50\u001b[0m \u001b[32m━━━━━━━━━━━━━━━━━━━━\u001b[0m\u001b[37m\u001b[0m \u001b[1m1s\u001b[0m 24ms/step - loss: 2.7341e-04 - val_loss: 4.0173e-04\n",
      "Epoch 41/50\n",
      "\u001b[1m50/50\u001b[0m \u001b[32m━━━━━━━━━━━━━━━━━━━━\u001b[0m\u001b[37m\u001b[0m \u001b[1m1s\u001b[0m 25ms/step - loss: 3.1051e-04 - val_loss: 4.7157e-04\n",
      "Epoch 42/50\n",
      "\u001b[1m50/50\u001b[0m \u001b[32m━━━━━━━━━━━━━━━━━━━━\u001b[0m\u001b[37m\u001b[0m \u001b[1m1s\u001b[0m 25ms/step - loss: 2.4724e-04 - val_loss: 0.0023\n",
      "Epoch 43/50\n",
      "\u001b[1m50/50\u001b[0m \u001b[32m━━━━━━━━━━━━━━━━━━━━\u001b[0m\u001b[37m\u001b[0m \u001b[1m1s\u001b[0m 25ms/step - loss: 3.1418e-04 - val_loss: 9.1913e-04\n",
      "Epoch 44/50\n",
      "\u001b[1m50/50\u001b[0m \u001b[32m━━━━━━━━━━━━━━━━━━━━\u001b[0m\u001b[37m\u001b[0m \u001b[1m1s\u001b[0m 25ms/step - loss: 2.0226e-04 - val_loss: 6.2142e-04\n",
      "Epoch 45/50\n",
      "\u001b[1m50/50\u001b[0m \u001b[32m━━━━━━━━━━━━━━━━━━━━\u001b[0m\u001b[37m\u001b[0m \u001b[1m1s\u001b[0m 25ms/step - loss: 2.3006e-04 - val_loss: 3.2965e-04\n",
      "Epoch 46/50\n",
      "\u001b[1m50/50\u001b[0m \u001b[32m━━━━━━━━━━━━━━━━━━━━\u001b[0m\u001b[37m\u001b[0m \u001b[1m1s\u001b[0m 25ms/step - loss: 2.9166e-04 - val_loss: 0.0010\n",
      "Epoch 47/50\n",
      "\u001b[1m50/50\u001b[0m \u001b[32m━━━━━━━━━━━━━━━━━━━━\u001b[0m\u001b[37m\u001b[0m \u001b[1m1s\u001b[0m 25ms/step - loss: 3.7514e-04 - val_loss: 0.0011\n",
      "Epoch 48/50\n",
      "\u001b[1m50/50\u001b[0m \u001b[32m━━━━━━━━━━━━━━━━━━━━\u001b[0m\u001b[37m\u001b[0m \u001b[1m1s\u001b[0m 25ms/step - loss: 2.9992e-04 - val_loss: 6.0645e-04\n",
      "Epoch 49/50\n",
      "\u001b[1m50/50\u001b[0m \u001b[32m━━━━━━━━━━━━━━━━━━━━\u001b[0m\u001b[37m\u001b[0m \u001b[1m1s\u001b[0m 25ms/step - loss: 3.6637e-04 - val_loss: 3.2087e-04\n",
      "Epoch 50/50\n",
      "\u001b[1m50/50\u001b[0m \u001b[32m━━━━━━━━━━━━━━━━━━━━\u001b[0m\u001b[37m\u001b[0m \u001b[1m1s\u001b[0m 25ms/step - loss: 2.8482e-04 - val_loss: 6.4362e-04\n"
     ]
    }
   ],
   "source": [
    "from keras.models import Sequential\n",
    "from keras.layers import LSTM, Dropout, Dense, Input\n",
    "\n",
    "lstm_model = train_lstm_model(X_train, y_train, sequence_length, n_features=1, epochs=50, batch_size=32)\n"
   ]
  },
  {
   "cell_type": "code",
   "execution_count": 20,
   "id": "96b9a083-2f09-44ab-a2db-bdb51ebfaa51",
   "metadata": {},
   "outputs": [
    {
     "name": "stdout",
     "output_type": "stream",
     "text": [
      "\u001b[1m14/14\u001b[0m \u001b[32m━━━━━━━━━━━━━━━━━━━━\u001b[0m\u001b[37m\u001b[0m \u001b[1m0s\u001b[0m 12ms/step\n",
      "Mean Squared Error (MSE): 19.289287719744305\n",
      "Root Mean Squared Error (RMSE): 4.391957162785665\n",
      "Mean Absolute Error (MAE): 3.4038965280690707\n",
      "Mean Absolute Percentage Error (MAPE): 1.8332545431555665%\n",
      "R-squared (R²): 0.9664305415683752\n",
      "Metrics saved to lstm_model_metrics.json\n"
     ]
    }
   ],
   "source": [
    "import numpy as np\n",
    "import json\n",
    "from sklearn.metrics import mean_squared_error, mean_absolute_error, r2_score\n",
    "\n",
    "def evaluate_model(model, X_test, y_test, scaler, filename='model_metrics.json'):\n",
    "    # Make predictions on the test set\n",
    "    predictions = model.predict(X_test)\n",
    "\n",
    "    # Reverse the scaling on predictions and true values\n",
    "    predictions_rescaled = scaler.inverse_transform(predictions)\n",
    "    y_test_rescaled = scaler.inverse_transform(y_test.reshape(-1, 1))\n",
    "\n",
    "    # Compute evaluation metrics\n",
    "    mse = mean_squared_error(y_test_rescaled, predictions_rescaled)\n",
    "    mae = mean_absolute_error(y_test_rescaled, predictions_rescaled)\n",
    "    rmse = np.sqrt(mse)\n",
    "    mape = np.mean(np.abs((y_test_rescaled - predictions_rescaled) / y_test_rescaled)) * 100\n",
    "    r2 = r2_score(y_test_rescaled, predictions_rescaled)\n",
    "\n",
    "    # Print evaluation metrics\n",
    "    print(f\"Mean Squared Error (MSE): {mse}\")\n",
    "    print(f\"Root Mean Squared Error (RMSE): {rmse}\")\n",
    "    print(f\"Mean Absolute Error (MAE): {mae}\")\n",
    "    print(f\"Mean Absolute Percentage Error (MAPE): {mape}%\")\n",
    "    print(f\"R-squared (R²): {r2}\")\n",
    "\n",
    "    metrics = {\n",
    "        \"Mean Squared Error (MSE)\": mse,\n",
    "        \"Root Mean Squared Error (RMSE)\": rmse,\n",
    "        \"Mean Absolute Error (MAE)\": mae,\n",
    "        \"Mean Absolute Percentage Error (MAPE)\": mape,\n",
    "        \"R-squared (R²)\": r2\n",
    "    }\n",
    "\n",
    "    # Save metrics to a JSON file\n",
    "    with open(filename, 'w') as f:\n",
    "        json.dump(metrics, f)\n",
    "\n",
    "    print(f\"Metrics saved to {filename}\")\n",
    "    \n",
    "    return predictions_rescaled, mse, mae, rmse, mape, r2\n",
    "\n",
    "predictions_rescaled, mse, mae, rmse, mape, r2 = evaluate_model(lstm_model, X_test, y_test, scaler, filename='lstm_model_metrics.json')\n"
   ]
  },
  {
   "cell_type": "code",
   "execution_count": 21,
   "id": "10694cec-ace0-43ce-baf9-b2d523816624",
   "metadata": {},
   "outputs": [
    {
     "name": "stdout",
     "output_type": "stream",
     "text": [
      "\u001b[1m14/14\u001b[0m \u001b[32m━━━━━━━━━━━━━━━━━━━━\u001b[0m\u001b[37m\u001b[0m \u001b[1m0s\u001b[0m 7ms/step\n"
     ]
    }
   ],
   "source": [
    "# Function to make predictions on new data\n",
    "def make_predictions(model, X_test):\n",
    "    predictions = model.predict(X_test)\n",
    "    predictions_rescaled = scaler.inverse_transform(predictions)\n",
    "    return predictions_rescaled\n",
    "\n",
    "# Example: Make predictions on test data\n",
    "predictions = make_predictions(lstm_model, X_test)\n"
   ]
  },
  {
   "cell_type": "code",
   "execution_count": 22,
   "id": "f9e8d33f-723a-47b2-ac74-b09678f4cccf",
   "metadata": {},
   "outputs": [
    {
     "data": {
      "image/png": "[encoded data removed]",
      "text/plain": [
       "<Figure size 1000x600 with 1 Axes>"
      ]
     },
     "metadata": {},
     "output_type": "display_data"
    }
   ],
   "source": [
    "# Visualization of the predictions vs true values\n",
    "def plot_predictions(predictions, y_test, scaler):\n",
    "    y_test_rescaled = scaler.inverse_transform(y_test.reshape(-1, 1))\n",
    "\n",
    "    plt.figure(figsize=(10, 6))\n",
    "    plt.plot(y_test_rescaled, color='blue', label='True Values')\n",
    "    plt.plot(predictions, color='red', label='Predicted Values')\n",
    "    plt.title('True vs Predicted Stock Prices')\n",
    "    plt.xlabel('Time Steps')\n",
    "    plt.ylabel('Stock Price')\n",
    "    plt.legend()\n",
    "    plt.show()\n",
    "\n",
    "# Call the function to plot predictions vs true values\n",
    "plot_predictions(predictions_rescaled, y_test, scaler)\n"
   ]
  },
  {
   "cell_type": "code",
   "execution_count": 23,
   "id": "2e9323f2-f24a-4c06-bab6-fafb241ade84",
   "metadata": {},
   "outputs": [
    {
     "name": "stderr",
     "output_type": "stream",
     "text": [
      "WARNING:absl:You are saving your model as an HDF5 file via `model.save()` or `keras.saving.save_model(model)`. This file format is considered legacy. We recommend using instead the native Keras format, e.g. `model.save('my_model.keras')` or `keras.saving.save_model(model, 'my_model.keras')`. \n",
      "WARNING:absl:Compiled the loaded model, but the compiled metrics have yet to be built. `model.compile_metrics` will be empty until you train or evaluate the model.\n",
      "/Users/aleksandra.rancic/venv/lib/python3.12/site-packages/keras/src/saving/saving_lib.py:713: UserWarning: Skipping variable loading for optimizer 'adam', because it has 18 variables whereas the saved optimizer has 2 variables. \n",
      "  saveable.load_own_variables(weights_store.get(inner_path))\n"
     ]
    }
   ],
   "source": [
    "from keras.models import load_model\n",
    "import joblib\n",
    "\n",
    "# Save the model using Keras\n",
    "lstm_model.save('lstm_model.h5')\n",
    "\n",
    "# Load the model to ensure it can be used after saving\n",
    "loaded_model = load_model('lstm_model.h5')\n",
    "\n",
    "# Save the loaded Keras model as a pickle file\n",
    "joblib.dump(loaded_model, 'lstm_model.pkl')\n",
    "\n",
    "# Optionally, confirm the model is saved by loading it back\n",
    "model_from_pkl = joblib.load('lstm_model.pkl')\n"
   ]
  },
  {
   "cell_type": "code",
   "execution_count": 24,
   "id": "02a4a6eb-fc94-4390-9a03-07203976cde5",
   "metadata": {},
   "outputs": [
    {
     "data": {
      "text/plain": [
       "['minmax_scaler.pkl']"
      ]
     },
     "execution_count": 24,
     "metadata": {},
     "output_type": "execute_result"
    }
   ],
   "source": [
    "# Save the scaler to a file\n",
    "joblib.dump(scaler, 'minmax_scaler.pkl') \n"
   ]
  },
  {
   "cell_type": "code",
   "execution_count": 25,
   "id": "03d4c4ba-5cfd-4fbc-a0d3-22a7af96da09",
   "metadata": {},
   "outputs": [
    {
     "name": "stdout",
     "output_type": "stream",
     "text": [
      "Date\n",
      "Open\n",
      "High\n",
      "Low\n",
      "Close\n",
      "Adj Close\n",
      "Volume\n"
     ]
    }
   ],
   "source": [
    "for column in df.columns:\n",
    "    print (column)\n",
    "    "
   ]
  },
  {
   "cell_type": "code",
   "execution_count": 26,
   "id": "f78d6d11-1bca-4459-8617-944be54bec87",
   "metadata": {},
   "outputs": [
    {
     "data": {
      "text/html": [
       "<div>\n",
       "<style scoped>\n",
       "    .dataframe tbody tr th:only-of-type {\n",
       "        vertical-align: middle;\n",
       "    }\n",
       "\n",
       "    .dataframe tbody tr th {\n",
       "        vertical-align: top;\n",
       "    }\n",
       "\n",
       "    .dataframe thead th {\n",
       "        text-align: right;\n",
       "    }\n",
       "</style>\n",
       "<table border=\"1\" class=\"dataframe\">\n",
       "  <thead>\n",
       "    <tr style=\"text-align: right;\">\n",
       "      <th></th>\n",
       "      <th>Date</th>\n",
       "      <th>Open</th>\n",
       "      <th>High</th>\n",
       "      <th>Low</th>\n",
       "      <th>Close</th>\n",
       "      <th>Adj Close</th>\n",
       "      <th>Volume</th>\n",
       "    </tr>\n",
       "  </thead>\n",
       "  <tbody>\n",
       "    <tr>\n",
       "      <th>0</th>\n",
       "      <td>2014-09-12</td>\n",
       "      <td>25.302500</td>\n",
       "      <td>25.547501</td>\n",
       "      <td>25.270000</td>\n",
       "      <td>25.415001</td>\n",
       "      <td>22.566168</td>\n",
       "      <td>250504400</td>\n",
       "    </tr>\n",
       "    <tr>\n",
       "      <th>1</th>\n",
       "      <td>2014-09-15</td>\n",
       "      <td>25.702499</td>\n",
       "      <td>25.762501</td>\n",
       "      <td>25.360001</td>\n",
       "      <td>25.407499</td>\n",
       "      <td>22.559505</td>\n",
       "      <td>245266000</td>\n",
       "    </tr>\n",
       "    <tr>\n",
       "      <th>2</th>\n",
       "      <td>2014-09-16</td>\n",
       "      <td>24.950001</td>\n",
       "      <td>25.315001</td>\n",
       "      <td>24.722500</td>\n",
       "      <td>25.215000</td>\n",
       "      <td>22.388575</td>\n",
       "      <td>267632400</td>\n",
       "    </tr>\n",
       "    <tr>\n",
       "      <th>3</th>\n",
       "      <td>2014-09-17</td>\n",
       "      <td>25.317499</td>\n",
       "      <td>25.450001</td>\n",
       "      <td>25.147499</td>\n",
       "      <td>25.395000</td>\n",
       "      <td>22.548403</td>\n",
       "      <td>243706000</td>\n",
       "    </tr>\n",
       "    <tr>\n",
       "      <th>4</th>\n",
       "      <td>2014-09-18</td>\n",
       "      <td>25.482500</td>\n",
       "      <td>25.587500</td>\n",
       "      <td>25.389999</td>\n",
       "      <td>25.447500</td>\n",
       "      <td>22.595018</td>\n",
       "      <td>149197600</td>\n",
       "    </tr>\n",
       "    <tr>\n",
       "      <th>5</th>\n",
       "      <td>2014-09-19</td>\n",
       "      <td>25.572500</td>\n",
       "      <td>25.587500</td>\n",
       "      <td>25.125000</td>\n",
       "      <td>25.240000</td>\n",
       "      <td>22.410778</td>\n",
       "      <td>283609600</td>\n",
       "    </tr>\n",
       "    <tr>\n",
       "      <th>6</th>\n",
       "      <td>2014-09-22</td>\n",
       "      <td>25.450001</td>\n",
       "      <td>25.535000</td>\n",
       "      <td>25.145000</td>\n",
       "      <td>25.264999</td>\n",
       "      <td>22.432983</td>\n",
       "      <td>211153600</td>\n",
       "    </tr>\n",
       "    <tr>\n",
       "      <th>7</th>\n",
       "      <td>2014-09-23</td>\n",
       "      <td>25.150000</td>\n",
       "      <td>25.735001</td>\n",
       "      <td>25.135000</td>\n",
       "      <td>25.660000</td>\n",
       "      <td>22.783699</td>\n",
       "      <td>253608800</td>\n",
       "    </tr>\n",
       "    <tr>\n",
       "      <th>8</th>\n",
       "      <td>2014-09-24</td>\n",
       "      <td>25.540001</td>\n",
       "      <td>25.712500</td>\n",
       "      <td>25.299999</td>\n",
       "      <td>25.437500</td>\n",
       "      <td>22.586140</td>\n",
       "      <td>240687200</td>\n",
       "    </tr>\n",
       "    <tr>\n",
       "      <th>9</th>\n",
       "      <td>2014-09-25</td>\n",
       "      <td>25.127501</td>\n",
       "      <td>25.177500</td>\n",
       "      <td>24.430000</td>\n",
       "      <td>24.467501</td>\n",
       "      <td>21.724871</td>\n",
       "      <td>400368000</td>\n",
       "    </tr>\n",
       "  </tbody>\n",
       "</table>\n",
       "</div>"
      ],
      "text/plain": [
       "         Date       Open       High        Low      Close  Adj Close  \\\n",
       "0  2014-09-12  25.302500  25.547501  25.270000  25.415001  22.566168   \n",
       "1  2014-09-15  25.702499  25.762501  25.360001  25.407499  22.559505   \n",
       "2  2014-09-16  24.950001  25.315001  24.722500  25.215000  22.388575   \n",
       "3  2014-09-17  25.317499  25.450001  25.147499  25.395000  22.548403   \n",
       "4  2014-09-18  25.482500  25.587500  25.389999  25.447500  22.595018   \n",
       "5  2014-09-19  25.572500  25.587500  25.125000  25.240000  22.410778   \n",
       "6  2014-09-22  25.450001  25.535000  25.145000  25.264999  22.432983   \n",
       "7  2014-09-23  25.150000  25.735001  25.135000  25.660000  22.783699   \n",
       "8  2014-09-24  25.540001  25.712500  25.299999  25.437500  22.586140   \n",
       "9  2014-09-25  25.127501  25.177500  24.430000  24.467501  21.724871   \n",
       "\n",
       "      Volume  \n",
       "0  250504400  \n",
       "1  245266000  \n",
       "2  267632400  \n",
       "3  243706000  \n",
       "4  149197600  \n",
       "5  283609600  \n",
       "6  211153600  \n",
       "7  253608800  \n",
       "8  240687200  \n",
       "9  400368000  "
      ]
     },
     "execution_count": 26,
     "metadata": {},
     "output_type": "execute_result"
    }
   ],
   "source": [
    "df.head(10)"
   ]
  },
  {
   "cell_type": "code",
   "execution_count": 27,
   "id": "e8e0d40e-7cad-4ed2-9d1e-de7a9e0ce13f",
   "metadata": {},
   "outputs": [
    {
     "name": "stdout",
     "output_type": "stream",
     "text": [
      "<class 'pandas.core.frame.DataFrame'>\n",
      "RangeIndex: 2533 entries, 0 to 2532\n",
      "Data columns (total 7 columns):\n",
      " #   Column     Non-Null Count  Dtype  \n",
      "---  ------     --------------  -----  \n",
      " 0   Date       2533 non-null   object \n",
      " 1   Open       2533 non-null   float64\n",
      " 2   High       2533 non-null   float64\n",
      " 3   Low        2533 non-null   float64\n",
      " 4   Close      2533 non-null   float64\n",
      " 5   Adj Close  2533 non-null   float64\n",
      " 6   Volume     2533 non-null   int64  \n",
      "dtypes: float64(5), int64(1), object(1)\n",
      "memory usage: 138.7+ KB\n"
     ]
    }
   ],
   "source": [
    "df.info()\n"
   ]
  },
  {
   "cell_type": "code",
   "execution_count": 28,
   "id": "5cc85898-dbbe-4385-a96a-a5a8ed5d90ad",
   "metadata": {},
   "outputs": [
    {
     "name": "stderr",
     "output_type": "stream",
     "text": [
      "WARNING:absl:Compiled the loaded model, but the compiled metrics have yet to be built. `model.compile_metrics` will be empty until you train or evaluate the model.\n"
     ]
    },
    {
     "data": {
      "text/html": [
       "<pre style=\"white-space:pre;overflow-x:auto;line-height:normal;font-family:Menlo,'DejaVu Sans Mono',consolas,'Courier New',monospace\"><span style=\"font-weight: bold\">Model: \"sequential\"</span>\n",
       "</pre>\n"
      ],
      "text/plain": [
       "\u001b[1mModel: \"sequential\"\u001b[0m\n"
      ]
     },
     "metadata": {},
     "output_type": "display_data"
    },
    {
     "data": {
      "text/html": [
       "<pre style=\"white-space:pre;overflow-x:auto;line-height:normal;font-family:Menlo,'DejaVu Sans Mono',consolas,'Courier New',monospace\">┏━━━━━━━━━━━━━━━━━━━━━━━━━━━━━━━━━┳━━━━━━━━━━━━━━━━━━━━━━━━┳━━━━━━━━━━━━━━━┓\n",
       "┃<span style=\"font-weight: bold\"> Layer (type)                    </span>┃<span style=\"font-weight: bold\"> Output Shape           </span>┃<span style=\"font-weight: bold\">       Param # </span>┃\n",
       "┡━━━━━━━━━━━━━━━━━━━━━━━━━━━━━━━━━╇━━━━━━━━━━━━━━━━━━━━━━━━╇━━━━━━━━━━━━━━━┩\n",
       "│ lstm (<span style=\"color: #0087ff; text-decoration-color: #0087ff\">LSTM</span>)                     │ (<span style=\"color: #00d7ff; text-decoration-color: #00d7ff\">None</span>, <span style=\"color: #00af00; text-decoration-color: #00af00\">60</span>, <span style=\"color: #00af00; text-decoration-color: #00af00\">100</span>)        │        <span style=\"color: #00af00; text-decoration-color: #00af00\">40,800</span> │\n",
       "├─────────────────────────────────┼────────────────────────┼───────────────┤\n",
       "│ dropout (<span style=\"color: #0087ff; text-decoration-color: #0087ff\">Dropout</span>)               │ (<span style=\"color: #00d7ff; text-decoration-color: #00d7ff\">None</span>, <span style=\"color: #00af00; text-decoration-color: #00af00\">60</span>, <span style=\"color: #00af00; text-decoration-color: #00af00\">100</span>)        │             <span style=\"color: #00af00; text-decoration-color: #00af00\">0</span> │\n",
       "├─────────────────────────────────┼────────────────────────┼───────────────┤\n",
       "│ lstm_1 (<span style=\"color: #0087ff; text-decoration-color: #0087ff\">LSTM</span>)                   │ (<span style=\"color: #00d7ff; text-decoration-color: #00d7ff\">None</span>, <span style=\"color: #00af00; text-decoration-color: #00af00\">50</span>)             │        <span style=\"color: #00af00; text-decoration-color: #00af00\">30,200</span> │\n",
       "├─────────────────────────────────┼────────────────────────┼───────────────┤\n",
       "│ dropout_1 (<span style=\"color: #0087ff; text-decoration-color: #0087ff\">Dropout</span>)             │ (<span style=\"color: #00d7ff; text-decoration-color: #00d7ff\">None</span>, <span style=\"color: #00af00; text-decoration-color: #00af00\">50</span>)             │             <span style=\"color: #00af00; text-decoration-color: #00af00\">0</span> │\n",
       "├─────────────────────────────────┼────────────────────────┼───────────────┤\n",
       "│ dense (<span style=\"color: #0087ff; text-decoration-color: #0087ff\">Dense</span>)                   │ (<span style=\"color: #00d7ff; text-decoration-color: #00d7ff\">None</span>, <span style=\"color: #00af00; text-decoration-color: #00af00\">1</span>)              │            <span style=\"color: #00af00; text-decoration-color: #00af00\">51</span> │\n",
       "└─────────────────────────────────┴────────────────────────┴───────────────┘\n",
       "</pre>\n"
      ],
      "text/plain": [
       "┏━━━━━━━━━━━━━━━━━━━━━━━━━━━━━━━━━┳━━━━━━━━━━━━━━━━━━━━━━━━┳━━━━━━━━━━━━━━━┓\n",
       "┃\u001b[1m \u001b[0m\u001b[1mLayer (type)                   \u001b[0m\u001b[1m \u001b[0m┃\u001b[1m \u001b[0m\u001b[1mOutput Shape          \u001b[0m\u001b[1m \u001b[0m┃\u001b[1m \u001b[0m\u001b[1m      Param #\u001b[0m\u001b[1m \u001b[0m┃\n",
       "┡━━━━━━━━━━━━━━━━━━━━━━━━━━━━━━━━━╇━━━━━━━━━━━━━━━━━━━━━━━━╇━━━━━━━━━━━━━━━┩\n",
       "│ lstm (\u001b[38;5;33mLSTM\u001b[0m)                     │ (\u001b[38;5;45mNone\u001b[0m, \u001b[38;5;34m60\u001b[0m, \u001b[38;5;34m100\u001b[0m)        │        \u001b[38;5;34m40,800\u001b[0m │\n",
       "├─────────────────────────────────┼────────────────────────┼───────────────┤\n",
       "│ dropout (\u001b[38;5;33mDropout\u001b[0m)               │ (\u001b[38;5;45mNone\u001b[0m, \u001b[38;5;34m60\u001b[0m, \u001b[38;5;34m100\u001b[0m)        │             \u001b[38;5;34m0\u001b[0m │\n",
       "├─────────────────────────────────┼────────────────────────┼───────────────┤\n",
       "│ lstm_1 (\u001b[38;5;33mLSTM\u001b[0m)                   │ (\u001b[38;5;45mNone\u001b[0m, \u001b[38;5;34m50\u001b[0m)             │        \u001b[38;5;34m30,200\u001b[0m │\n",
       "├─────────────────────────────────┼────────────────────────┼───────────────┤\n",
       "│ dropout_1 (\u001b[38;5;33mDropout\u001b[0m)             │ (\u001b[38;5;45mNone\u001b[0m, \u001b[38;5;34m50\u001b[0m)             │             \u001b[38;5;34m0\u001b[0m │\n",
       "├─────────────────────────────────┼────────────────────────┼───────────────┤\n",
       "│ dense (\u001b[38;5;33mDense\u001b[0m)                   │ (\u001b[38;5;45mNone\u001b[0m, \u001b[38;5;34m1\u001b[0m)              │            \u001b[38;5;34m51\u001b[0m │\n",
       "└─────────────────────────────────┴────────────────────────┴───────────────┘\n"
      ]
     },
     "metadata": {},
     "output_type": "display_data"
    },
    {
     "data": {
      "text/html": [
       "<pre style=\"white-space:pre;overflow-x:auto;line-height:normal;font-family:Menlo,'DejaVu Sans Mono',consolas,'Courier New',monospace\"><span style=\"font-weight: bold\"> Total params: </span><span style=\"color: #00af00; text-decoration-color: #00af00\">71,053</span> (277.55 KB)\n",
       "</pre>\n"
      ],
      "text/plain": [
       "\u001b[1m Total params: \u001b[0m\u001b[38;5;34m71,053\u001b[0m (277.55 KB)\n"
      ]
     },
     "metadata": {},
     "output_type": "display_data"
    },
    {
     "data": {
      "text/html": [
       "<pre style=\"white-space:pre;overflow-x:auto;line-height:normal;font-family:Menlo,'DejaVu Sans Mono',consolas,'Courier New',monospace\"><span style=\"font-weight: bold\"> Trainable params: </span><span style=\"color: #00af00; text-decoration-color: #00af00\">71,051</span> (277.54 KB)\n",
       "</pre>\n"
      ],
      "text/plain": [
       "\u001b[1m Trainable params: \u001b[0m\u001b[38;5;34m71,051\u001b[0m (277.54 KB)\n"
      ]
     },
     "metadata": {},
     "output_type": "display_data"
    },
    {
     "data": {
      "text/html": [
       "<pre style=\"white-space:pre;overflow-x:auto;line-height:normal;font-family:Menlo,'DejaVu Sans Mono',consolas,'Courier New',monospace\"><span style=\"font-weight: bold\"> Non-trainable params: </span><span style=\"color: #00af00; text-decoration-color: #00af00\">0</span> (0.00 B)\n",
       "</pre>\n"
      ],
      "text/plain": [
       "\u001b[1m Non-trainable params: \u001b[0m\u001b[38;5;34m0\u001b[0m (0.00 B)\n"
      ]
     },
     "metadata": {},
     "output_type": "display_data"
    },
    {
     "data": {
      "text/html": [
       "<pre style=\"white-space:pre;overflow-x:auto;line-height:normal;font-family:Menlo,'DejaVu Sans Mono',consolas,'Courier New',monospace\"><span style=\"font-weight: bold\"> Optimizer params: </span><span style=\"color: #00af00; text-decoration-color: #00af00\">2</span> (12.00 B)\n",
       "</pre>\n"
      ],
      "text/plain": [
       "\u001b[1m Optimizer params: \u001b[0m\u001b[38;5;34m2\u001b[0m (12.00 B)\n"
      ]
     },
     "metadata": {},
     "output_type": "display_data"
    }
   ],
   "source": [
    "from keras.models import load_model\n",
    "\n",
    "# Load the Keras model\n",
    "loaded_model = load_model('lstm_model.h5')\n",
    "\n",
    "# Print the model summary\n",
    "loaded_model.summary()\n"
   ]
  },
  {
   "cell_type": "code",
   "execution_count": null,
   "id": "4899a9db-4d91-491f-9bf6-9e7e30fe984a",
   "metadata": {},
   "outputs": [],
   "source": []
  }
 ],
 "metadata": {
  "kernelspec": {
   "display_name": "venv",
   "language": "python",
   "name": "venv"
  },
  "language_info": {
   "codemirror_mode": {
    "name": "ipython",
    "version": 3
   },
   "file_extension": ".py",
   "mimetype": "text/x-python",
   "name": "python",
   "nbconvert_exporter": "python",
   "pygments_lexer": "ipython3",
   "version": "3.12.6"
  }
 },
 "nbformat": 4,
 "nbformat_minor": 5
}
